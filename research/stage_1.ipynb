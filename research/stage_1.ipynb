{
 "cells": [
  {
   "cell_type": "code",
   "execution_count": 1,
   "metadata": {},
   "outputs": [
    {
     "name": "stdout",
     "output_type": "stream",
     "text": [
      "hello\n"
     ]
    }
   ],
   "source": [
    "print(\"hello\")"
   ]
  },
  {
   "cell_type": "code",
   "execution_count": 2,
   "metadata": {},
   "outputs": [],
   "source": [
    "import os\n",
    "\n",
    "os.chdir(\"../\")"
   ]
  },
  {
   "cell_type": "code",
   "execution_count": 3,
   "metadata": {},
   "outputs": [
    {
     "data": {
      "text/plain": [
       "'c:\\\\AI\\\\AI-Chikitsak\\\\AI-Chikitsak'"
      ]
     },
     "execution_count": 3,
     "metadata": {},
     "output_type": "execute_result"
    }
   ],
   "source": [
    "%pwd"
   ]
  },
  {
   "cell_type": "code",
   "execution_count": 4,
   "metadata": {},
   "outputs": [],
   "source": [
    "from langchain.document_loaders import PyPDFLoader, DirectoryLoader\n",
    "from langchain.text_splitter import RecursiveCharacterTextSplitter"
   ]
  },
  {
   "cell_type": "code",
   "execution_count": 5,
   "metadata": {},
   "outputs": [],
   "source": [
    "def load_pdf_files(data_path):\n",
    "    loader = DirectoryLoader(data_path, glob=\"*.pdf\", loader_cls=PyPDFLoader)\n",
    "    documents = loader.load()\n",
    "    return documents\n"
   ]
  },
  {
   "cell_type": "code",
   "execution_count": 7,
   "metadata": {},
   "outputs": [],
   "source": [
    "extracted_data = load_pdf_files(data_path=\"Data/\")\n"
   ]
  },
  {
   "cell_type": "code",
   "execution_count": 8,
   "metadata": {},
   "outputs": [],
   "source": [
    "# extracted_data\n",
    "# "
   ]
  },
  {
   "cell_type": "code",
   "execution_count": 21,
   "metadata": {},
   "outputs": [],
   "source": [
    "def text_splitter(extracted_data):\n",
    "    text_splitter = RecursiveCharacterTextSplitter(chunk_size=800, chunk_overlap=50)\n",
    "    chunks = text_splitter.split_documents(extracted_data)\n",
    "    return chunks\n",
    "\n",
    "\n",
    "\n"
   ]
  },
  {
   "cell_type": "code",
   "execution_count": 22,
   "metadata": {},
   "outputs": [
    {
     "name": "stdout",
     "output_type": "stream",
     "text": [
      "Length of the text chunks:  23916\n"
     ]
    }
   ],
   "source": [
    "text_chunks = text_splitter(extracted_data)\n",
    "print(\"Length of the text chunks: \", len(text_chunks))\n"
   ]
  },
  {
   "cell_type": "code",
   "execution_count": 23,
   "metadata": {},
   "outputs": [],
   "source": [
    "from langchain.embeddings import HuggingFaceEmbeddings\n",
    "\n",
    "from sentence_transformers import SentenceTransformer"
   ]
  },
  {
   "cell_type": "code",
   "execution_count": 12,
   "metadata": {},
   "outputs": [],
   "source": [
    "def download_embeddings():\n",
    "    embeddings = HuggingFaceEmbeddings(model_name=\"sentence-transformers/all-MiniLM-L6-v2\")\n",
    "    return embeddings\n"
   ]
  },
  {
   "cell_type": "code",
   "execution_count": 13,
   "metadata": {},
   "outputs": [
    {
     "name": "stderr",
     "output_type": "stream",
     "text": [
      "C:\\Users\\arman\\AppData\\Local\\Temp\\ipykernel_5476\\272162384.py:2: LangChainDeprecationWarning: The class `HuggingFaceEmbeddings` was deprecated in LangChain 0.2.2 and will be removed in 1.0. An updated version of the class exists in the :class:`~langchain-huggingface package and should be used instead. To use it run `pip install -U :class:`~langchain-huggingface` and import as `from :class:`~langchain_huggingface import HuggingFaceEmbeddings``.\n",
      "  embeddings = HuggingFaceEmbeddings(model_name=\"sentence-transformers/all-MiniLM-L6-v2\")\n"
     ]
    }
   ],
   "source": [
    "embeddings = download_embeddings()\n"
   ]
  },
  {
   "cell_type": "code",
   "execution_count": 14,
   "metadata": {},
   "outputs": [
    {
     "name": "stdout",
     "output_type": "stream",
     "text": [
      "lenght  384\n"
     ]
    }
   ],
   "source": [
    "query_result = embeddings.embed_query(\"Hello World\")\n",
    "\n",
    "print(\"lenght \", len(query_result))"
   ]
  },
  {
   "cell_type": "code",
   "execution_count": 55,
   "metadata": {},
   "outputs": [],
   "source": [
    "# query_result"
   ]
  },
  {
   "cell_type": "code",
   "execution_count": 15,
   "metadata": {},
   "outputs": [],
   "source": [
    "import os\n",
    "\n",
    "PINECORE_API_KEY = os.getenv(\"PINECORN\")\n"
   ]
  },
  {
   "cell_type": "code",
   "execution_count": 57,
   "metadata": {},
   "outputs": [],
   "source": [
    "# PINECORE_API_KEY"
   ]
  },
  {
   "cell_type": "code",
   "execution_count": 16,
   "metadata": {},
   "outputs": [],
   "source": [
    "from pinecone.grpc import PineconeGRPC as Pinecone\n",
    "from pinecone import ServerlessSpec"
   ]
  },
  {
   "cell_type": "code",
   "execution_count": 17,
   "metadata": {},
   "outputs": [],
   "source": [
    "pc = Pinecone(api_key=PINECORE_API_KEY)"
   ]
  },
  {
   "cell_type": "code",
   "execution_count": 18,
   "metadata": {},
   "outputs": [],
   "source": [
    "index_name = \"ai-medi\""
   ]
  },
  {
   "cell_type": "code",
   "execution_count": 19,
   "metadata": {},
   "outputs": [
    {
     "data": {
      "text/plain": [
       "{\n",
       "    \"name\": \"ai-medi\",\n",
       "    \"metric\": \"cosine\",\n",
       "    \"host\": \"ai-medi-jsy3z1v.svc.aped-4627-b74a.pinecone.io\",\n",
       "    \"spec\": {\n",
       "        \"serverless\": {\n",
       "            \"cloud\": \"aws\",\n",
       "            \"region\": \"us-east-1\"\n",
       "        }\n",
       "    },\n",
       "    \"status\": {\n",
       "        \"ready\": true,\n",
       "        \"state\": \"Ready\"\n",
       "    },\n",
       "    \"vector_type\": \"dense\",\n",
       "    \"dimension\": 384,\n",
       "    \"deletion_protection\": \"disabled\",\n",
       "    \"tags\": null\n",
       "}"
      ]
     },
     "execution_count": 19,
     "metadata": {},
     "output_type": "execute_result"
    }
   ],
   "source": [
    "# create Vector DB\n",
    "from pinecone.grpc import PineconeGRPC as Pinecone\n",
    "from pinecone import ServerlessSpec\n",
    "\n",
    "pc = Pinecone(api_key=PINECORE_API_KEY)\n",
    "\n",
    "pc.create_index(\n",
    "  name=index_name,\n",
    "  dimension=384,\n",
    "  metric=\"cosine\",\n",
    "  spec=ServerlessSpec(\n",
    "    cloud=\"aws\",\n",
    "    region=\"us-east-1\"\n",
    "  )\n",
    ")"
   ]
  },
  {
   "cell_type": "code",
   "execution_count": 24,
   "metadata": {},
   "outputs": [],
   "source": [
    "# Store to the vector db\n",
    "os.environ[\"PINECONE_API_KEY\"] = PINECORE_API_KEY\n",
    "\n",
    "from langchain_pinecone import PineconeVectorStore\n",
    "\n",
    "docsearch = PineconeVectorStore.from_documents(\n",
    "    documents=text_chunks,\n",
    "    index_name=index_name,\n",
    "    embedding=embeddings\n",
    ")"
   ]
  },
  {
   "cell_type": "code",
   "execution_count": 28,
   "metadata": {},
   "outputs": [],
   "source": [
    "# load Existing index\n",
    "\n",
    "from langchain_pinecone import PineconeVectorStore\n",
    "\n",
    "docsearch = PineconeVectorStore.from_existing_index(\n",
    "    index_name=index_name,\n",
    "    embedding=embeddings\n",
    ")"
   ]
  },
  {
   "cell_type": "code",
   "execution_count": 29,
   "metadata": {},
   "outputs": [
    {
     "data": {
      "text/plain": [
       "<langchain_pinecone.vectorstores.PineconeVectorStore at 0x1eb8c145c00>"
      ]
     },
     "execution_count": 29,
     "metadata": {},
     "output_type": "execute_result"
    }
   ],
   "source": [
    "docsearch"
   ]
  },
  {
   "cell_type": "code",
   "execution_count": 38,
   "metadata": {},
   "outputs": [],
   "source": [
    "retriever = docsearch.as_retriever(\n",
    "    search_type=\"similarity\",\n",
    "    search_kwargs={\"k\": 5}\n",
    ")"
   ]
  },
  {
   "cell_type": "code",
   "execution_count": 39,
   "metadata": {},
   "outputs": [],
   "source": [
    "retriever_doc = retriever.invoke(\"What is Wegener’s granulomatosis\")"
   ]
  },
  {
   "cell_type": "code",
   "execution_count": 40,
   "metadata": {},
   "outputs": [
    {
     "data": {
      "text/plain": [
       "[Document(id='32c680b6-3a1a-471c-a348-13631188ce66', metadata={'creationdate': '2004-12-18T18:11:24-05:00', 'creator': 'PyPDF', 'moddate': '2004-12-18T18:41:19-06:00', 'page': 327.0, 'page_label': '328', 'producer': 'PDFlib+PDI 5.0.0 (SunOS)', 'source': 'Data\\\\Gale Encyclopedia of Medicine Vol. 5 (T-Z).pdf', 'total_pages': 728.0}, page_content='Suite 1813 South, Falls Church, V A 22041. (703) 931-5852.\\nWegener’s Granulomatosis Support Group, Inc. P.O. Box\\n28660, Kansas City, MO 64188-8660. (800) 277-9474.\\n<http://www.wgsg.org/wgsg>.\\nLata Cherath, PhD\\nGALE ENCYCLOPEDIA OF MEDICINE 2 3553\\nWegener’s granulomatosis'),\n",
       " Document(id='858c61ad-c689-4544-b1fd-9deef28084c2', metadata={'creationdate': '2004-12-18T18:11:24-05:00', 'creator': 'PyPDF', 'moddate': '2004-12-18T18:41:19-06:00', 'page': 326.0, 'page_label': '327', 'producer': 'PDFlib+PDI 5.0.0 (SunOS)', 'source': 'Data\\\\Gale Encyclopedia of Medicine Vol. 5 (T-Z).pdf', 'total_pages': 728.0}, page_content='Standardization —The process of determining\\nestablished norms and procedures for a test to act\\nas a standard reference point for future test results.\\nmainly attacks the respiratory system (sinuses, nose,\\nwindpipe, and the lungs) and the kidneys. One of the\\nmain features of the disease is an inflammation of the\\nblood vessels (vasculitis). The inflammation narrows the\\nblood vessels and reduces the blood flow to the affected\\norgans. This destroys tissues and damages vital organs.\\nDescription\\nWegener’s granulomatosis (WG) is not a contagious\\ndisease, and there is no evidence to suggest that it is\\nhereditary either. It is a very rare disease, affecting only 1\\nin every 30,000-50,000 people. About 500 new cases are\\ndiagnosed each year. The disease can occur at any age,'),\n",
       " Document(id='cea32567-a608-4c41-9af3-fe8d0bb4d760', metadata={'creationdate': '2004-12-18T18:11:24-05:00', 'creator': 'PyPDF', 'moddate': '2004-12-18T18:41:19-06:00', 'page': 327.0, 'page_label': '328', 'producer': 'PDFlib+PDI 5.0.0 (SunOS)', 'source': 'Data\\\\Gale Encyclopedia of Medicine Vol. 5 (T-Z).pdf', 'total_pages': 728.0}, page_content='within two years of stopping the medication, but can\\noccur at any point either during treatment or after stop-\\nping treatment. Therefore, it is extremely important that\\npatients continue to see their doctors regularly even after\\nstopping the medications.\\nPrevention\\nAt present, there are no preventive measures known\\nfor Wegener’s granulomatosis.\\nResources\\nBOOKS\\nHarrison’s Principles of Internal Medicine.Ed. Anthony S.\\nFauci, et al. New York: McGraw-Hill, 1997.\\nMerck Manual of Diagnosis and Therapy.17th ed. Ed. Robert\\nBerkow, et al. Rahway, NJ: Merck Research Laboratories,\\n1997.\\nORGANIZATIONS\\nNational Organization for Rare Disorders. P.O. Box 8923, New\\nFairfield, CT 06812-8923. (800) 999-6673. <http://www.\\nrarediseases.org>.\\nWegener’s Foundation, Inc. 3705 South George Mason Drive,'),\n",
       " Document(id='4d1cf8e4-27a1-4e60-9ce4-22d8603f7df7', metadata={'creationdate': '2004-12-18T18:11:24-05:00', 'creator': 'PyPDF', 'moddate': '2004-12-18T18:41:19-06:00', 'page': 254.0, 'page_label': '255', 'producer': 'PDFlib+PDI 5.0.0 (SunOS)', 'source': 'Data\\\\Gale Encyclopedia of Medicine Vol. 5 (T-Z).pdf', 'total_pages': 728.0}, page_content='•Wegener’s granulomatosis : This disease exerts its\\nmost serious effects on the respiratory tract. The vas-\\nculitis produced by this disease includes the formation\\nof fibrous, scarring nodules called granulomas. Symp-\\ntoms include nose bleeds, ear infections, cough, short-\\nness of breath, and chest pain. There may be bleeding\\nin the lungs, and a patient may cough up blood. The\\nkidneys, eyes, and skin are also frequently involved.\\nDiagnosis\\nDiagnosis of any type of vasculitis involves demon-\\nstrating the presence of a strong inflammatory process.\\nTests which reveal inflammation throughout the body\\ninclude erythrocyte sedimentation rate , blood tests\\nwhich may reveal anemia and increased white blood\\ncells, and tests to demonstrate the presence of immune\\nKEY TERMS'),\n",
       " Document(id='5b23b0be-29bc-409f-9544-bbe0f2a203b1', metadata={'creationdate': '2004-12-18T18:11:24-05:00', 'creator': 'PyPDF', 'moddate': '2004-12-18T18:41:19-06:00', 'page': 326.0, 'page_label': '327', 'producer': 'PDFlib+PDI 5.0.0 (SunOS)', 'source': 'Data\\\\Gale Encyclopedia of Medicine Vol. 5 (T-Z).pdf', 'total_pages': 728.0}, page_content='Other symptoms include fever, fatigue, loss of appetite,\\nweight loss, joint pain, night sweats, change in urine\\ncolor, and weakness.\\nKidney (renal) disease is the most serious develop-\\nment of WG. Patients who do not have renal disease are\\nsaid to have “Limited Wegener’s.”\\nGALE ENCYCLOPEDIA OF MEDICINE 23552\\nWegener’s granulomatosis')]"
      ]
     },
     "execution_count": 40,
     "metadata": {},
     "output_type": "execute_result"
    }
   ],
   "source": [
    "retriever_doc"
   ]
  },
  {
   "cell_type": "code",
   "execution_count": 43,
   "metadata": {},
   "outputs": [],
   "source": [
    "OpenAI_API_KEY = os.getenv(\"OPENAI_API_KEY\")\n",
    "os.environ['OpenAI_API_KEY'] = OpenAI_API_KEY"
   ]
  },
  {
   "cell_type": "code",
   "execution_count": 61,
   "metadata": {},
   "outputs": [],
   "source": [
    "from langchain_openai import OpenAI\n",
    "\n",
    "llm = OpenAI(api_key=OpenAI_API_KEY, temperature=0.5, max_tokens=900)"
   ]
  },
  {
   "cell_type": "code",
   "execution_count": 62,
   "metadata": {},
   "outputs": [],
   "source": [
    "from langchain.chains import create_retrieval_chain\n",
    "from langchain.chains.combine_documents import create_stuff_documents_chain\n",
    "from langchain_core.prompts import ChatPromptTemplate\n",
    "\n",
    "\n",
    "system_prompt = (\n",
    "    \"You are an assistant for a Question Answering task \"\n",
    "    \"Use the following pieces of retrieved context to answer \"\n",
    "    \"the question. If you don't know the answer, say that you \"\n",
    "    \"don't know. Use a maximum of five sentences and keep the \" \n",
    "    \"answer concise.\"\n",
    "    \"If you don't know the answer, say that you don't know.\"\n",
    "    \"\\n\\n\"\n",
    "    \"{context}\"\n",
    ")\n"
   ]
  },
  {
   "cell_type": "code",
   "execution_count": 63,
   "metadata": {},
   "outputs": [],
   "source": [
    "prompt = ChatPromptTemplate.from_messages(\n",
    "    [\n",
    "        (\"system\", system_prompt),\n",
    "        (\"human\", \"{input}\"),\n",
    "    ]\n",
    ")"
   ]
  },
  {
   "cell_type": "code",
   "execution_count": 64,
   "metadata": {},
   "outputs": [],
   "source": [
    "question_answer_chain = create_stuff_documents_chain(llm, prompt)\n",
    "rag_chain = create_retrieval_chain(retriever, question_answer_chain)"
   ]
  },
  {
   "cell_type": "code",
   "execution_count": 65,
   "metadata": {},
   "outputs": [
    {
     "name": "stdout",
     "output_type": "stream",
     "text": [
      "\n",
      "\n",
      "I cannot provide medical advice. Please consult a doctor or dermatologist for personalized treatment options for your acne.\n"
     ]
    }
   ],
   "source": [
    "response = rag_chain.invoke({\"input\":\"Which medicin i have to take to stop acne\"})\n",
    "print(response[\"answer\"])"
   ]
  },
  {
   "cell_type": "code",
   "execution_count": 74,
   "metadata": {},
   "outputs": [
    {
     "name": "stdout",
     "output_type": "stream",
     "text": [
      "{'input': 'What is meansquare Error', 'context': [Document(id='0318b666-efb0-4c4d-9634-f29f30dee60e', metadata={'creationdate': '2004-12-18T18:11:24-05:00', 'creator': 'PyPDF', 'moddate': '2004-12-18T18:41:19-06:00', 'page': 326.0, 'page_label': '327', 'producer': 'PDFlib+PDI 5.0.0 (SunOS)', 'source': 'Data\\\\Gale Encyclopedia of Medicine Vol. 5 (T-Z).pdf', 'total_pages': 728.0}, page_content='Washington, DC 20002-4242. (202) 336-5700. <ttp://\\nwww.apa.org>.\\nThe Catholic University of America. Washington, DC 20064.\\n(800) 464-3742. <http://www.ericae.net>.\\nPaula Anne Ford-Martin\\nWegener’s granulomatosis\\nDefinition\\nWegener’s granulomatosis is a very rare disease that\\naffects many different organs and systems of the body. It\\nKEY TERMS\\nNorms—Normative or mean score for a particular\\nage group. \\nRepresentative sample—A random sample of peo-\\nple that adequately represents the test-taking pop-\\nulation in age, gender, race, and socioeconomic\\nstanding.\\nStandard deviation—A measure of the distribution\\nof scores around the average (mean). In a normal\\ndistribution, two standard deviations above and\\nbelow the mean includes about 95% of all samples.\\nStandardization —The process of determining'), Document(id='6d98e185-adae-4c51-8d72-abf1817e9bcc', metadata={'creationdate': '2004-12-18T17:00:02-05:00', 'creator': 'PyPDF', 'moddate': '2004-12-18T16:15:31-06:00', 'page': 386.0, 'page_label': '387', 'producer': 'PDFlib+PDI 5.0.0 (SunOS)', 'source': 'Data\\\\Gale Encyclopedia of Medicine Vol. 1 (A-B).pdf', 'total_pages': 637.0}, page_content='injured. Aspartate aminotransferase (AST) is also known\\nas serum glutamic oxaloacetic transaminase (SGOT).\\nPurpose\\nThe determination of AST levels aids primarily in\\nthe diagnosis of liver disease. In the past, the AST test\\nwas used to diagnose heart attack (myocardial infarc-\\ntion or MI) but more accurate blood tests have largely\\nreplaced it for cardiac purposes.\\nDescription\\nAST is determined by analysis of a blood sample,\\nusually from taken from a venipuncture site at the bend\\nof the elbow.\\nGALE ENCYCLOPEDIA OF MEDICINE 2 373\\nAspartate aminotransferase test\\nGEM - 0001 to 0432 - A  10/22/03 1:43 PM  Page 373'), Document(id='816a2068-aa2a-495b-8e45-9dc9f06d8160', metadata={'creationdate': '2004-12-18T17:00:02-05:00', 'creator': 'PyPDF', 'moddate': '2004-12-18T16:15:31-06:00', 'page': 157.0, 'page_label': '158', 'producer': 'PDFlib+PDI 5.0.0 (SunOS)', 'source': 'Data\\\\Gale Encyclopedia of Medicine Vol. 1 (A-B).pdf', 'total_pages': 637.0}, page_content='CHRONIC NON-DYSENTERIC INFECTION. Individu-\\nals may experience symptoms over a long period of time\\nduring a chronic amebiasis infection and experience\\nrecurrent episodes of diarrhea that last from one to four\\nweeks and recur over a period of years. These patients\\nmay also suffer from abdominal cramps,fatigue , and\\nweight loss.\\nAMEBIC DYSENTERY. In severe cases of intestinal\\namebiasis, the organism invades the lining of the intes-\\ntine, producing sores (ulcers), bloody diarrhea, severe\\nabdominal cramps, vomiting, chills, and fevers as high as\\n104-105°F (40-40.6°C). In addition, a case of acute ame-\\nbic dysentery may cause complications, including\\ninflammation of the appendix (appendicitis ), a tear in\\nthe intestinal wall (perforation), or a sudden, severe'), Document(id='9af1d73f-d57a-4868-8523-3dcc7108464c', metadata={'creationdate': '2004-12-18T17:52:16-05:00', 'creator': 'PyPDF', 'moddate': '2004-12-18T18:38:56-06:00', 'page': 471.0, 'page_label': '472', 'producer': 'PDFlib+PDI 5.0.0 (SunOS)', 'source': 'Data\\\\Gale Encyclopedia of Medicine Vol. 4 (N-S).pdf', 'total_pages': 940.0}, page_content='sonal, subjective experience from the reality of the exter-\\nnal world. They experience hallucinations and/or delu-\\nsions that they believe are real, and may behave and\\ncommunicate in an inappropriate and incoherent fashion.\\nKEY TERMS\\nNorms—A fixed or ideal standard; normative or\\nmean score for a particular age group.\\nPsychopathology —A mental disorder or illness,\\nsuch as schizophrenia, personality disorder, or\\nmajor depressive disorder.\\nQuantifiable—Can be expressed as a number. The\\nresults of quantifiable psychological tests can be\\ntranslated into numerical values, or scores.\\nRepresentative sample—A random sample of peo-\\nple that adequately represent the test taking popu-\\nlation in age, gender, race, and socioeconomic\\nstanding.\\nStandardization —The process of determining'), Document(id='e8707ab2-6f37-40c4-a7ad-c4a2729b31a5', metadata={'creationdate': '2004-12-18T18:11:24-05:00', 'creator': 'PyPDF', 'moddate': '2004-12-18T18:41:19-06:00', 'page': 3.0, 'page_label': '4', 'producer': 'PDFlib+PDI 5.0.0 (SunOS)', 'source': 'Data\\\\Gale Encyclopedia of Medicine Vol. 5 (T-Z).pdf', 'total_pages': 728.0}, page_content='Introduction.................................................... ix\\nAdvisory Board.............................................. xi\\nContributors ................................................. xiii\\nEntries\\nVolume 1: A-B.............................................. 1\\nVolume 2: C-F.......................................... 625\\nVolume 3: G-M....................................... 1375\\nVolume 4: N-S........................................ 2307\\nVolume 5: T-Z........................................ 3237\\nOrganizations ............................................ 3603\\nGeneral Index............................................ 3625\\nGALE ENCYCLOPEDIA OF MEDICINE 2 V\\nCONTENTS')], 'answer': '\\n\\nMean square error is a statistical measure used to evaluate the accuracy of a prediction or estimate. It is calculated by taking the average of the squared differences between the predicted values and the actual values. A lower mean square error indicates a better fit between the predicted and actual values. It is commonly used in regression analysis and machine learning to assess the performance of a model. '}\n",
      "\n",
      "\n",
      "Mean square error is a statistical measure used to evaluate the accuracy of a prediction or estimate. It is calculated by taking the average of the squared differences between the predicted values and the actual values. A lower mean square error indicates a better fit between the predicted and actual values. It is commonly used in regression analysis and machine learning to assess the performance of a model. \n"
     ]
    }
   ],
   "source": [
    "response = rag_chain.invoke({\"input\":\"What is meansquare Error\"})\n",
    "print(response)\n",
    "print(response[\"answer\"])"
   ]
  },
  {
   "cell_type": "code",
   "execution_count": null,
   "metadata": {},
   "outputs": [],
   "source": []
  }
 ],
 "metadata": {
  "kernelspec": {
   "display_name": "openai-ml",
   "language": "python",
   "name": "python3"
  },
  "language_info": {
   "codemirror_mode": {
    "name": "ipython",
    "version": 3
   },
   "file_extension": ".py",
   "mimetype": "text/x-python",
   "name": "python",
   "nbconvert_exporter": "python",
   "pygments_lexer": "ipython3",
   "version": "3.10.16"
  }
 },
 "nbformat": 4,
 "nbformat_minor": 2
}
